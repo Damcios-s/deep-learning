{
 "cells": [
  {
   "cell_type": "markdown",
   "id": "2c52c8ed",
   "metadata": {},
   "source": [
    "# Import Required Libraries\n",
    "Import necessary libraries such as numpy, tensorflow/keras, and matplotlib for visualization."
   ]
  },
  {
   "cell_type": "code",
   "execution_count": 1,
   "id": "7669a794",
   "metadata": {},
   "outputs": [
    {
     "name": "stdout",
     "output_type": "stream",
     "text": [
      "3.10.18 | packaged by Anaconda, Inc. | (main, Jun  5 2025, 13:08:55) [MSC v.1929 64 bit (AMD64)]\n",
      "c:\\Users\\Damia\\anaconda3\\envs\\my_cuda_env\\python.exe\n",
      "python310.dll\n",
      "cudart64_110.dll\n",
      "MSVCP140D.dll\n",
      "VCRUNTIME140D.dll\n",
      "VCRUNTIME140_1D.dll\n",
      "ucrtbased.dll\n",
      "KERNEL32.dll\n"
     ]
    }
   ],
   "source": [
    "import pefile\n",
    "\n",
    "import sys\n",
    "import os\n",
    "print(sys.version)\n",
    "print(sys.executable)\n",
    "sys.path.append('../')  # To import from parent directory\n",
    "sys.path.append('../build/Debug')\n",
    "sys.path.append(os.path.abspath(\"../build/Debug\"))\n",
    "\n",
    "pe = pefile.PE('../build/Debug/deep_learning_cuda.cp310-win_amd64.pyd')\n",
    "for entry in pe.DIRECTORY_ENTRY_IMPORT:\n",
    "    print(entry.dll.decode())\n",
    "\n",
    "import deep_learning_cuda"
   ]
  },
  {
   "cell_type": "code",
   "execution_count": 2,
   "id": "cde44e32",
   "metadata": {},
   "outputs": [],
   "source": [
    "import numpy as np\n",
    "import matplotlib.pyplot as plt\n",
    "from tensorflow.keras.datasets import mnist\n",
    "from tensorflow.keras.utils import to_categorical\n"
   ]
  },
  {
   "cell_type": "markdown",
   "id": "2f51d09a",
   "metadata": {},
   "source": [
    "# Load the MNIST Dataset\n",
    "Load the MNIST dataset using Keras datasets API and split into training and test sets."
   ]
  },
  {
   "cell_type": "code",
   "execution_count": 3,
   "id": "08738481",
   "metadata": {},
   "outputs": [
    {
     "name": "stdout",
     "output_type": "stream",
     "text": [
      "Training samples: 60000, Test samples: 10000\n"
     ]
    }
   ],
   "source": [
    "(X_train, y_train), (X_test, y_test) = mnist.load_data()\n",
    "print(f\"Training samples: {X_train.shape[0]}, Test samples: {X_test.shape[0]}\")"
   ]
  },
  {
   "cell_type": "markdown",
   "id": "b6003b9a",
   "metadata": {},
   "source": [
    "# Preprocess the Data\n",
    "Normalize the image data and convert labels to categorical format suitable for classification."
   ]
  },
  {
   "cell_type": "code",
   "execution_count": 4,
   "id": "6af5781c",
   "metadata": {},
   "outputs": [],
   "source": [
    "# Normalize images to [0, 1] and flatten\n",
    "X_train = X_train.astype(np.float32) / 255.0\n",
    "X_test = X_test.astype(np.float32) / 255.0\n",
    "X_train = X_train.reshape(-1, 28*28)\n",
    "X_test = X_test.reshape(-1, 28*28)\n",
    "\n",
    "# Convert labels to categorical (one-hot)\n",
    "y_train_cat = to_categorical(y_train, 10)\n",
    "y_test_cat = to_categorical(y_test, 10)"
   ]
  },
  {
   "cell_type": "markdown",
   "id": "97d5d260",
   "metadata": {},
   "source": [
    "# Instantiate the MLP Model\n",
    "Define and compile a Multi-Layer Perceptron (MLP) model using your custom implementation."
   ]
  },
  {
   "cell_type": "code",
   "execution_count": 5,
   "id": "04504b3e",
   "metadata": {},
   "outputs": [],
   "source": [
    "from models.mlp_cuda import MLPCuda\n",
    "from algorithms.sgd import SGD\n",
    "from loss_functions.cross_entropy import cross_entropy_loss, cross_entropy_grad\n",
    "\n",
    "# Define model dimensions\n",
    "input_dim = 28*28\n",
    "hidden_dim = 128\n",
    "output_dim = 10\n",
    "\n",
    "# Instantiate model and optimizer\n",
    "mlp = MLPCuda(input_dim, hidden_dim, output_dim)\n",
    "optimizer = SGD(mlp, lr=0.1)"
   ]
  },
  {
   "cell_type": "markdown",
   "id": "fd766212",
   "metadata": {},
   "source": [
    "# Train the Model\n",
    "Train the MLP model on the training data and monitor training metrics."
   ]
  },
  {
   "cell_type": "code",
   "execution_count": 6,
   "id": "041b326a",
   "metadata": {},
   "outputs": [
    {
     "name": "stdout",
     "output_type": "stream",
     "text": [
      "Epoch 1/10, Loss: 2.1981\n",
      "  Forward pass time: 0.9360 seconds\n",
      "  Backward pass time: 0.7737 seconds\n",
      "  Model Forward Measurements:\n",
      "fc1 - time: 0.6235597133636475\n",
      "relu - time: 0.0020008087158203125\n",
      "fc2 - time: 0.27718567848205566\n",
      "softmax - time: 0.02646470069885254\n",
      "  Model Backward Measurements:\n",
      "fc1 - time: 0.266345739364624\n",
      "relu - time: 0.006409406661987305\n",
      "fc2 - time: 0.014993429183959961\n",
      "softmax - time: 0.4636268615722656\n",
      "  Loss Forward Measurements:\n",
      "cross_entropy - time: 0.019410133361816406\n",
      "  Loss Backward Measurements:\n",
      "cross_entropy - time: 0.009279489517211914\n",
      "Epoch 2/10, Loss: 1.1273\n",
      "  Forward pass time: 0.7533 seconds\n",
      "  Backward pass time: 0.8616 seconds\n",
      "  Model Forward Measurements:\n",
      "fc1 - time: 0.6030740737915039\n",
      "relu - time: 0.002820253372192383\n",
      "fc2 - time: 0.1316542625427246\n",
      "softmax - time: 0.007472991943359375\n",
      "  Model Backward Measurements:\n",
      "fc1 - time: 0.3766443729400635\n",
      "relu - time: 0.011451482772827148\n",
      "fc2 - time: 0.027500629425048828\n",
      "softmax - time: 0.43796300888061523\n",
      "  Loss Forward Measurements:\n",
      "cross_entropy - time: 0.006039619445800781\n",
      "  Loss Backward Measurements:\n",
      "Epoch 3/10, Loss: 0.5131\n",
      "  Forward pass time: 0.8302 seconds\n",
      "  Backward pass time: 0.7869 seconds\n",
      "  Model Forward Measurements:\n",
      "fc1 - time: 0.5235965251922607\n",
      "relu - time: 0.003960609436035156\n",
      "fc2 - time: 0.27681827545166016\n",
      "softmax - time: 0.009111166000366211\n",
      "  Model Backward Measurements:\n",
      "fc1 - time: 0.19612789154052734\n",
      "relu - time: 0.00519871711730957\n",
      "fc2 - time: 0.020604848861694336\n",
      "softmax - time: 0.5580480098724365\n",
      "  Loss Forward Measurements:\n",
      "cross_entropy - time: 0.015870094299316406\n",
      "  Loss Backward Measurements:\n",
      "cross_entropy - time: 0.0008816719055175781\n",
      "Epoch 4/10, Loss: 0.4103\n",
      "  Forward pass time: 0.9521 seconds\n",
      "  Backward pass time: 0.8428 seconds\n",
      "  Model Forward Measurements:\n",
      "fc1 - time: 0.5275228023529053\n",
      "relu - time: 0.00743556022644043\n",
      "fc2 - time: 0.38469624519348145\n",
      "softmax - time: 0.011822700500488281\n",
      "  Model Backward Measurements:\n",
      "fc1 - time: 0.22008490562438965\n",
      "relu - time: 0.009197473526000977\n",
      "fc2 - time: 0.018065690994262695\n",
      "softmax - time: 0.5700852870941162\n",
      "  Loss Forward Measurements:\n",
      "cross_entropy - time: 0.025536537170410156\n",
      "  Loss Backward Measurements:\n",
      "cross_entropy - time: 0.013120174407958984\n",
      "Epoch 5/10, Loss: 0.3705\n",
      "  Forward pass time: 1.0035 seconds\n",
      "  Backward pass time: 0.8214 seconds\n",
      "  Model Forward Measurements:\n",
      "fc1 - time: 0.5443427562713623\n",
      "relu - time: 0.01264500617980957\n",
      "fc2 - time: 0.4053525924682617\n",
      "softmax - time: 0.019018173217773438\n",
      "  Model Backward Measurements:\n",
      "fc1 - time: 0.20769715309143066\n",
      "relu - time: 0.005789279937744141\n",
      "fc2 - time: 0.026677608489990234\n",
      "softmax - time: 0.5634784698486328\n",
      "  Loss Forward Measurements:\n",
      "cross_entropy - time: 0.028380870819091797\n",
      "  Loss Backward Measurements:\n",
      "cross_entropy - time: 0.005789995193481445\n",
      "Epoch 6/10, Loss: 0.3478\n",
      "  Forward pass time: 0.9965 seconds\n",
      "  Backward pass time: 0.7799 seconds\n",
      "  Model Forward Measurements:\n",
      "fc1 - time: 0.5862560272216797\n",
      "relu - time: 0.0097198486328125\n",
      "fc2 - time: 0.38243675231933594\n",
      "softmax - time: 0.011823415756225586\n",
      "  Model Backward Measurements:\n",
      "fc1 - time: 0.22123932838439941\n",
      "relu - time: 0.01163792610168457\n",
      "fc2 - time: 0.021030902862548828\n",
      "softmax - time: 0.5010800361633301\n",
      "  Loss Forward Measurements:\n",
      "cross_entropy - time: 0.0201261043548584\n",
      "  Loss Backward Measurements:\n",
      "cross_entropy - time: 0.012695550918579102\n",
      "Epoch 7/10, Loss: 0.3324\n",
      "  Forward pass time: 0.8942 seconds\n",
      "  Backward pass time: 0.7415 seconds\n",
      "  Model Forward Measurements:\n",
      "fc1 - time: 0.46483755111694336\n",
      "relu - time: 0.013481378555297852\n",
      "fc2 - time: 0.3966386318206787\n",
      "softmax - time: 0.0076367855072021484\n",
      "  Model Backward Measurements:\n",
      "fc1 - time: 0.16406679153442383\n",
      "relu - time: 0.012952566146850586\n",
      "fc2 - time: 0.019841909408569336\n",
      "softmax - time: 0.5309121608734131\n",
      "  Loss Forward Measurements:\n",
      "cross_entropy - time: 0.007387638092041016\n",
      "  Loss Backward Measurements:\n",
      "cross_entropy - time: 0.0017750263214111328\n",
      "Epoch 8/10, Loss: 0.3203\n",
      "  Forward pass time: 0.7697 seconds\n",
      "  Backward pass time: 0.8357 seconds\n",
      "  Model Forward Measurements:\n",
      "fc1 - time: 0.47115540504455566\n",
      "relu - time: 0.003326416015625\n",
      "fc2 - time: 0.27954602241516113\n",
      "softmax - time: 0.010670900344848633\n",
      "  Model Backward Measurements:\n",
      "fc1 - time: 0.1914520263671875\n",
      "relu - time: 0.01578497886657715\n",
      "fc2 - time: 0.024248600006103516\n",
      "softmax - time: 0.5825541019439697\n",
      "  Loss Forward Measurements:\n",
      "cross_entropy - time: 0.020720243453979492\n",
      "  Loss Backward Measurements:\n",
      "cross_entropy - time: 0.005790233612060547\n",
      "Epoch 9/10, Loss: 0.3096\n",
      "  Forward pass time: 0.6912 seconds\n",
      "  Backward pass time: 0.9132 seconds\n",
      "  Model Forward Measurements:\n",
      "fc1 - time: 0.3703169822692871\n",
      "relu - time: 0.001999378204345703\n",
      "fc2 - time: 0.292280912399292\n",
      "softmax - time: 0.014604330062866211\n",
      "  Model Backward Measurements:\n",
      "fc1 - time: 0.19850826263427734\n",
      "relu - time: 0.011914730072021484\n",
      "fc2 - time: 0.02494049072265625\n",
      "softmax - time: 0.6683764457702637\n",
      "  Loss Forward Measurements:\n",
      "cross_entropy - time: 0.024007081985473633\n",
      "  Loss Backward Measurements:\n",
      "cross_entropy - time: 0.0051882266998291016\n",
      "Epoch 10/10, Loss: 0.3004\n",
      "  Forward pass time: 0.6471 seconds\n",
      "  Backward pass time: 0.9523 seconds\n",
      "  Model Forward Measurements:\n",
      "fc1 - time: 0.4309370517730713\n",
      "relu - time: 0.00031948089599609375\n",
      "fc2 - time: 0.20028352737426758\n",
      "softmax - time: 0.0055539608001708984\n",
      "  Model Backward Measurements:\n",
      "fc1 - time: 0.32096409797668457\n",
      "relu - time: 0.017484188079833984\n",
      "fc2 - time: 0.017364978790283203\n",
      "softmax - time: 0.5750732421875\n",
      "  Loss Forward Measurements:\n",
      "cross_entropy - time: 0.0140838623046875\n",
      "  Loss Backward Measurements:\n",
      "cross_entropy - time: 0.012363672256469727\n"
     ]
    }
   ],
   "source": [
    "# Train the model\n",
    "optimizer.train(X_train, y_train_cat, cross_entropy_loss, cross_entropy_grad, epochs=10, batch_size=128, verbose=True)"
   ]
  },
  {
   "cell_type": "markdown",
   "id": "e2a69848",
   "metadata": {},
   "source": [
    "# Validate Model Performance on Test Set\n",
    "Evaluate the trained model on the test set and display accuracy and loss metrics."
   ]
  },
  {
   "cell_type": "code",
   "execution_count": 7,
   "id": "067b3e67",
   "metadata": {},
   "outputs": [
    {
     "name": "stdout",
     "output_type": "stream",
     "text": [
      "Test Accuracy: 92.65%\n",
      "Test Loss: 0.2858\n"
     ]
    }
   ],
   "source": [
    "# Evaluate on test set\n",
    "pred_probs, _ = mlp.forward(X_test)\n",
    "pred_labels = np.argmax(pred_probs, axis=1)\n",
    "true_labels = np.argmax(y_test_cat, axis=1)\n",
    "accuracy = np.mean(pred_labels == true_labels)\n",
    "test_loss, _ = cross_entropy_loss(pred_probs, y_test_cat)\n",
    "print(f\"Test Accuracy: {accuracy*100:.2f}%\")\n",
    "print(f\"Test Loss: {test_loss:.4f}\")"
   ]
  }
 ],
 "metadata": {
  "kernelspec": {
   "display_name": "my_cuda_env",
   "language": "python",
   "name": "python3"
  },
  "language_info": {
   "codemirror_mode": {
    "name": "ipython",
    "version": 3
   },
   "file_extension": ".py",
   "mimetype": "text/x-python",
   "name": "python",
   "nbconvert_exporter": "python",
   "pygments_lexer": "ipython3",
   "version": "3.10.18"
  }
 },
 "nbformat": 4,
 "nbformat_minor": 5
}
