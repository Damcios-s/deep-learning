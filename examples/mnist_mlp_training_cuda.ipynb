{
 "cells": [
  {
   "cell_type": "markdown",
   "id": "2c52c8ed",
   "metadata": {},
   "source": [
    "# Import Required Libraries\n",
    "Import necessary libraries such as numpy, tensorflow/keras, and matplotlib for visualization."
   ]
  },
  {
   "cell_type": "code",
   "execution_count": 1,
   "id": "7669a794",
   "metadata": {},
   "outputs": [
    {
     "name": "stdout",
     "output_type": "stream",
     "text": [
      "3.10.18 | packaged by Anaconda, Inc. | (main, Jun  5 2025, 13:08:55) [MSC v.1929 64 bit (AMD64)]\n",
      "c:\\Users\\Damia\\anaconda3\\envs\\my_cuda_env\\python.exe\n",
      "python310.dll\n",
      "cudart64_110.dll\n",
      "MSVCP140D.dll\n",
      "VCRUNTIME140D.dll\n",
      "VCRUNTIME140_1D.dll\n",
      "ucrtbased.dll\n",
      "KERNEL32.dll\n"
     ]
    }
   ],
   "source": [
    "import pefile\n",
    "\n",
    "import sys\n",
    "import os\n",
    "print(sys.version)\n",
    "print(sys.executable)\n",
    "sys.path.append('../')  # To import from parent directory\n",
    "sys.path.append('../build/Debug')\n",
    "sys.path.append(os.path.abspath(\"../build/Debug\"))\n",
    "\n",
    "pe = pefile.PE('../build/Debug/deep_learning_cuda.cp310-win_amd64.pyd')\n",
    "for entry in pe.DIRECTORY_ENTRY_IMPORT:\n",
    "    print(entry.dll.decode())\n",
    "\n",
    "import deep_learning_cuda"
   ]
  },
  {
   "cell_type": "code",
   "execution_count": 2,
   "id": "cde44e32",
   "metadata": {},
   "outputs": [],
   "source": [
    "import numpy as np\n",
    "import matplotlib.pyplot as plt\n",
    "from tensorflow.keras.datasets import mnist\n",
    "from tensorflow.keras.utils import to_categorical\n"
   ]
  },
  {
   "cell_type": "markdown",
   "id": "2f51d09a",
   "metadata": {},
   "source": [
    "# Load the MNIST Dataset\n",
    "Load the MNIST dataset using Keras datasets API and split into training and test sets."
   ]
  },
  {
   "cell_type": "code",
   "execution_count": 3,
   "id": "08738481",
   "metadata": {},
   "outputs": [
    {
     "name": "stdout",
     "output_type": "stream",
     "text": [
      "Training samples: 60000, Test samples: 10000\n"
     ]
    }
   ],
   "source": [
    "(X_train, y_train), (X_test, y_test) = mnist.load_data()\n",
    "print(f\"Training samples: {X_train.shape[0]}, Test samples: {X_test.shape[0]}\")"
   ]
  },
  {
   "cell_type": "markdown",
   "id": "b6003b9a",
   "metadata": {},
   "source": [
    "# Preprocess the Data\n",
    "Normalize the image data and convert labels to categorical format suitable for classification."
   ]
  },
  {
   "cell_type": "code",
   "execution_count": 4,
   "id": "6af5781c",
   "metadata": {},
   "outputs": [],
   "source": [
    "# Normalize images to [0, 1] and flatten\n",
    "X_train = X_train.astype(np.float32) / 255.0\n",
    "X_test = X_test.astype(np.float32) / 255.0\n",
    "X_train = X_train.reshape(-1, 28*28)\n",
    "X_test = X_test.reshape(-1, 28*28)\n",
    "\n",
    "# Convert labels to categorical (one-hot)\n",
    "y_train_cat = to_categorical(y_train, 10)\n",
    "y_test_cat = to_categorical(y_test, 10)"
   ]
  },
  {
   "cell_type": "markdown",
   "id": "97d5d260",
   "metadata": {},
   "source": [
    "# Instantiate the MLP Model\n",
    "Define and compile a Multi-Layer Perceptron (MLP) model using your custom implementation."
   ]
  },
  {
   "cell_type": "code",
   "execution_count": 5,
   "id": "04504b3e",
   "metadata": {},
   "outputs": [],
   "source": [
    "from models.mlp_cuda import MLPCuda\n",
    "from algorithms.sgd import SGD\n",
    "from loss_functions.cross_entropy import cross_entropy_loss, cross_entropy_grad\n",
    "\n",
    "# Define model dimensions\n",
    "input_dim = 28*28\n",
    "hidden_dim = 128\n",
    "output_dim = 10\n",
    "\n",
    "# Instantiate model and optimizer\n",
    "mlp = MLPCuda(input_dim, hidden_dim, output_dim)\n",
    "optimizer = SGD(mlp, lr=0.1)"
   ]
  },
  {
   "cell_type": "markdown",
   "id": "fd766212",
   "metadata": {},
   "source": [
    "# Train the Model\n",
    "Train the MLP model on the training data and monitor training metrics."
   ]
  },
  {
   "cell_type": "code",
   "execution_count": 6,
   "id": "041b326a",
   "metadata": {},
   "outputs": [
    {
     "name": "stdout",
     "output_type": "stream",
     "text": [
      "Epoch 1/10, Loss: 2.1986\n",
      "  Forward pass time: 1.1058 seconds\n",
      "  Backward pass time: 2.3344 seconds\n",
      "  Model Forward Measurements:\n",
      "fc1 - time: 0.6864008903503418\n",
      "relu - time: 0.01249837875366211\n",
      "fc2 - time: 0.36951422691345215\n",
      "softmax - time: 0.02674698829650879\n",
      "  Model Backward Measurements:\n",
      "fc1 - time: 1.2446157932281494\n",
      "relu - time: 0.011808633804321289\n",
      "fc2 - time: 0.48908472061157227\n",
      "softmax - time: 0.5666086673736572\n",
      "  Loss Forward Measurements:\n",
      "cross_entropy - time: 0.015463113784790039\n",
      "  Loss Backward Measurements:\n",
      "cross_entropy - time: 0.011331796646118164\n",
      "Epoch 2/10, Loss: 1.1563\n",
      "  Forward pass time: 1.0539 seconds\n",
      "  Backward pass time: 2.2840 seconds\n",
      "  Model Forward Measurements:\n",
      "fc1 - time: 0.6314730644226074\n",
      "relu - time: 0.006918668746948242\n",
      "fc2 - time: 0.3727874755859375\n",
      "softmax - time: 0.025342226028442383\n",
      "  Model Backward Measurements:\n",
      "fc1 - time: 1.2252919673919678\n",
      "relu - time: 0.011011362075805664\n",
      "fc2 - time: 0.47383761405944824\n",
      "softmax - time: 0.5548355579376221\n",
      "  Loss Forward Measurements:\n",
      "cross_entropy - time: 0.021352529525756836\n",
      "  Loss Backward Measurements:\n",
      "cross_entropy - time: 0.010169267654418945\n",
      "Epoch 3/10, Loss: 0.5207\n",
      "  Forward pass time: 1.2122 seconds\n",
      "  Backward pass time: 2.3871 seconds\n",
      "  Model Forward Measurements:\n",
      "fc1 - time: 0.6536767482757568\n",
      "relu - time: 0.011092424392700195\n",
      "fc2 - time: 0.398101806640625\n",
      "softmax - time: 0.13115525245666504\n",
      "  Model Backward Measurements:\n",
      "fc1 - time: 1.345350742340088\n",
      "relu - time: 0.015552043914794922\n",
      "fc2 - time: 0.47902369499206543\n",
      "softmax - time: 0.5196137428283691\n",
      "  Loss Forward Measurements:\n",
      "cross_entropy - time: 0.02588200569152832\n",
      "  Loss Backward Measurements:\n",
      "cross_entropy - time: 0.007299661636352539\n",
      "Epoch 4/10, Loss: 0.4104\n",
      "  Forward pass time: 1.0941 seconds\n",
      "  Backward pass time: 2.4869 seconds\n",
      "  Model Forward Measurements:\n",
      "fc1 - time: 0.6119372844696045\n",
      "relu - time: 0.010777473449707031\n",
      "fc2 - time: 0.4321877956390381\n",
      "softmax - time: 0.027924299240112305\n",
      "  Model Backward Measurements:\n",
      "fc1 - time: 1.3957529067993164\n",
      "relu - time: 0.02033090591430664\n",
      "fc2 - time: 0.5106582641601562\n",
      "softmax - time: 0.5385217666625977\n",
      "  Loss Forward Measurements:\n",
      "cross_entropy - time: 0.02577352523803711\n",
      "  Loss Backward Measurements:\n",
      "cross_entropy - time: 0.012380123138427734\n",
      "Epoch 5/10, Loss: 0.3695\n",
      "  Forward pass time: 1.0706 seconds\n",
      "  Backward pass time: 2.4579 seconds\n",
      "  Model Forward Measurements:\n",
      "fc1 - time: 0.6281723976135254\n",
      "relu - time: 0.005300045013427734\n",
      "fc2 - time: 0.4058518409729004\n",
      "softmax - time: 0.01680135726928711\n",
      "  Model Backward Measurements:\n",
      "fc1 - time: 1.3878936767578125\n",
      "relu - time: 0.014907360076904297\n",
      "fc2 - time: 0.48644566535949707\n",
      "softmax - time: 0.5479629039764404\n",
      "  Loss Forward Measurements:\n",
      "cross_entropy - time: 0.022665977478027344\n",
      "  Loss Backward Measurements:\n",
      "cross_entropy - time: 0.00954294204711914\n",
      "Epoch 6/10, Loss: 0.3460\n",
      "  Forward pass time: 1.0521 seconds\n",
      "  Backward pass time: 2.4551 seconds\n",
      "  Model Forward Measurements:\n",
      "fc1 - time: 0.603156566619873\n",
      "relu - time: 0.009558677673339844\n",
      "fc2 - time: 0.41115355491638184\n",
      "softmax - time: 0.014140844345092773\n",
      "  Model Backward Measurements:\n",
      "fc1 - time: 1.4063496589660645\n",
      "relu - time: 0.015379905700683594\n",
      "fc2 - time: 0.483919620513916\n",
      "softmax - time: 0.5261664390563965\n",
      "  Loss Forward Measurements:\n",
      "cross_entropy - time: 0.0260770320892334\n",
      "  Loss Backward Measurements:\n",
      "cross_entropy - time: 0.01325845718383789\n",
      "Epoch 7/10, Loss: 0.3303\n",
      "  Forward pass time: 1.0636 seconds\n",
      "  Backward pass time: 2.4717 seconds\n",
      "  Model Forward Measurements:\n",
      "fc1 - time: 0.6028149127960205\n",
      "relu - time: 0.008441686630249023\n",
      "fc2 - time: 0.41606831550598145\n",
      "softmax - time: 0.02159714698791504\n",
      "  Model Backward Measurements:\n",
      "fc1 - time: 1.4036118984222412\n",
      "relu - time: 0.009340763092041016\n",
      "fc2 - time: 0.49512362480163574\n",
      "softmax - time: 0.547170877456665\n",
      "  Loss Forward Measurements:\n",
      "cross_entropy - time: 0.018096208572387695\n",
      "  Loss Backward Measurements:\n",
      "cross_entropy - time: 0.008569955825805664\n",
      "Epoch 8/10, Loss: 0.3171\n",
      "  Forward pass time: 1.0862 seconds\n",
      "  Backward pass time: 2.4680 seconds\n",
      "  Model Forward Measurements:\n",
      "fc1 - time: 0.6273133754730225\n",
      "relu - time: 0.008227348327636719\n",
      "fc2 - time: 0.41637659072875977\n",
      "softmax - time: 0.019616365432739258\n",
      "  Model Backward Measurements:\n",
      "fc1 - time: 1.4165658950805664\n",
      "relu - time: 0.010305643081665039\n",
      "fc2 - time: 0.4942476749420166\n",
      "softmax - time: 0.5283222198486328\n",
      "  Loss Forward Measurements:\n",
      "cross_entropy - time: 0.0285184383392334\n",
      "  Loss Backward Measurements:\n",
      "cross_entropy - time: 0.01176142692565918\n",
      "Epoch 9/10, Loss: 0.3066\n",
      "  Forward pass time: 1.0652 seconds\n",
      "  Backward pass time: 2.5172 seconds\n",
      "  Model Forward Measurements:\n",
      "fc1 - time: 0.6295464038848877\n",
      "relu - time: 0.008541345596313477\n",
      "fc2 - time: 0.39498162269592285\n",
      "softmax - time: 0.01750779151916504\n",
      "  Model Backward Measurements:\n",
      "fc1 - time: 1.428541898727417\n",
      "relu - time: 0.012889623641967773\n",
      "fc2 - time: 0.5013206005096436\n",
      "softmax - time: 0.5536642074584961\n",
      "  Loss Forward Measurements:\n",
      "cross_entropy - time: 0.02358245849609375\n",
      "  Loss Backward Measurements:\n",
      "cross_entropy - time: 0.008460283279418945\n",
      "Epoch 10/10, Loss: 0.2967\n",
      "  Forward pass time: 1.0498 seconds\n",
      "  Backward pass time: 2.4727 seconds\n",
      "  Model Forward Measurements:\n",
      "fc1 - time: 0.6140525341033936\n",
      "relu - time: 0.007196903228759766\n",
      "fc2 - time: 0.39766812324523926\n",
      "softmax - time: 0.02068352699279785\n",
      "  Model Backward Measurements:\n",
      "fc1 - time: 1.4065148830413818\n",
      "relu - time: 0.008847236633300781\n",
      "fc2 - time: 0.4940314292907715\n",
      "softmax - time: 0.5474874973297119\n",
      "  Loss Forward Measurements:\n",
      "cross_entropy - time: 0.03483319282531738\n",
      "  Loss Backward Measurements:\n",
      "cross_entropy - time: 0.010834693908691406\n"
     ]
    }
   ],
   "source": [
    "# Train the model\n",
    "optimizer.train(X_train, y_train_cat, cross_entropy_loss, cross_entropy_grad, epochs=10, batch_size=128, verbose=True)"
   ]
  },
  {
   "cell_type": "markdown",
   "id": "e2a69848",
   "metadata": {},
   "source": [
    "# Validate Model Performance on Test Set\n",
    "Evaluate the trained model on the test set and display accuracy and loss metrics."
   ]
  },
  {
   "cell_type": "code",
   "execution_count": 7,
   "id": "067b3e67",
   "metadata": {},
   "outputs": [
    {
     "name": "stdout",
     "output_type": "stream",
     "text": [
      "Test Accuracy: 92.83%\n",
      "Test Loss: 0.2839\n"
     ]
    }
   ],
   "source": [
    "# Evaluate on test set\n",
    "pred_probs, _ = mlp.forward(X_test)\n",
    "pred_labels = np.argmax(pred_probs, axis=1)\n",
    "true_labels = np.argmax(y_test_cat, axis=1)\n",
    "accuracy = np.mean(pred_labels == true_labels)\n",
    "test_loss, _ = cross_entropy_loss(pred_probs, y_test_cat)\n",
    "print(f\"Test Accuracy: {accuracy*100:.2f}%\")\n",
    "print(f\"Test Loss: {test_loss:.4f}\")"
   ]
  }
 ],
 "metadata": {
  "kernelspec": {
   "display_name": "my_cuda_env",
   "language": "python",
   "name": "python3"
  },
  "language_info": {
   "codemirror_mode": {
    "name": "ipython",
    "version": 3
   },
   "file_extension": ".py",
   "mimetype": "text/x-python",
   "name": "python",
   "nbconvert_exporter": "python",
   "pygments_lexer": "ipython3",
   "version": "3.10.18"
  }
 },
 "nbformat": 4,
 "nbformat_minor": 5
}
