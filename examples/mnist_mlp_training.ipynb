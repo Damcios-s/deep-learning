{
 "cells": [
  {
   "cell_type": "markdown",
   "id": "2c52c8ed",
   "metadata": {},
   "source": [
    "# Import Required Libraries\n",
    "Import necessary libraries such as numpy, tensorflow/keras, and matplotlib for visualization."
   ]
  },
  {
   "cell_type": "code",
   "execution_count": 1,
   "id": "cde44e32",
   "metadata": {},
   "outputs": [],
   "source": [
    "import numpy as np\n",
    "import matplotlib.pyplot as plt\n",
    "from tensorflow.keras.datasets import mnist\n",
    "from tensorflow.keras.utils import to_categorical\n",
    "\n",
    "import sys\n",
    "sys.path.append('../')  # To import from parent directory"
   ]
  },
  {
   "cell_type": "markdown",
   "id": "2f51d09a",
   "metadata": {},
   "source": [
    "# Load the MNIST Dataset\n",
    "Load the MNIST dataset using Keras datasets API and split into training and test sets."
   ]
  },
  {
   "cell_type": "code",
   "execution_count": 2,
   "id": "08738481",
   "metadata": {},
   "outputs": [
    {
     "name": "stdout",
     "output_type": "stream",
     "text": [
      "Training samples: 60000, Test samples: 10000\n"
     ]
    }
   ],
   "source": [
    "(X_train, y_train), (X_test, y_test) = mnist.load_data()\n",
    "print(f\"Training samples: {X_train.shape[0]}, Test samples: {X_test.shape[0]}\")"
   ]
  },
  {
   "cell_type": "markdown",
   "id": "b6003b9a",
   "metadata": {},
   "source": [
    "# Preprocess the Data\n",
    "Normalize the image data and convert labels to categorical format suitable for classification."
   ]
  },
  {
   "cell_type": "code",
   "execution_count": 3,
   "id": "6af5781c",
   "metadata": {},
   "outputs": [],
   "source": [
    "# Normalize images to [0, 1] and flatten\n",
    "X_train = X_train.astype(np.float32) / 255.0\n",
    "X_test = X_test.astype(np.float32) / 255.0\n",
    "X_train = X_train.reshape(-1, 28*28)\n",
    "X_test = X_test.reshape(-1, 28*28)\n",
    "\n",
    "# Convert labels to categorical (one-hot)\n",
    "y_train_cat = to_categorical(y_train, 10)\n",
    "y_test_cat = to_categorical(y_test, 10)"
   ]
  },
  {
   "cell_type": "markdown",
   "id": "97d5d260",
   "metadata": {},
   "source": [
    "# Instantiate the MLP Model\n",
    "Define and compile a Multi-Layer Perceptron (MLP) model using your custom implementation."
   ]
  },
  {
   "cell_type": "code",
   "execution_count": 4,
   "id": "04504b3e",
   "metadata": {},
   "outputs": [],
   "source": [
    "from models.mlp import MLP\n",
    "from algorithms.sgd import SGD\n",
    "from loss_functions.cross_entropy import cross_entropy_loss, cross_entropy_grad\n",
    "\n",
    "# Define model dimensions\n",
    "input_dim = 28*28\n",
    "hidden_dim = 128\n",
    "output_dim = 10\n",
    "\n",
    "# Instantiate model and optimizer\n",
    "mlp = MLP(input_dim, hidden_dim, output_dim)\n",
    "optimizer = SGD(mlp, lr=0.1)"
   ]
  },
  {
   "cell_type": "markdown",
   "id": "fd766212",
   "metadata": {},
   "source": [
    "# Train the Model\n",
    "Train the MLP model on the training data and monitor training metrics."
   ]
  },
  {
   "cell_type": "code",
   "execution_count": 5,
   "id": "041b326a",
   "metadata": {},
   "outputs": [
    {
     "name": "stdout",
     "output_type": "stream",
     "text": [
      "Epoch 1/10, Loss: 2.2064\n",
      "  Forward pass time: 0.1881 seconds\n",
      "  Backward pass time: 0.8821 seconds\n",
      "  Model Forward Measurements:\n",
      "fc1 - time: 0.1535334587097168\n",
      "relu - time: 0.00441288948059082\n",
      "fc2 - time: 0.009857177734375\n",
      "softmax - time: 0.017409086227416992\n",
      "  Model Backward Measurements:\n",
      "fc1 - time: 0.24909710884094238\n",
      "relu - time: 0.010662317276000977\n",
      "fc2 - time: 0.02085709571838379\n",
      "softmax - time: 0.5862538814544678\n",
      "  Loss Forward Measurements:\n",
      "cross_entropy - time: 0.01747751235961914\n",
      "  Loss Backward Measurements:\n",
      "cross_entropy - time: 0.008481502532958984\n",
      "Epoch 2/10, Loss: 1.1591\n",
      "  Forward pass time: 0.1957 seconds\n",
      "  Backward pass time: 0.8817 seconds\n",
      "  Model Forward Measurements:\n",
      "fc1 - time: 0.15528202056884766\n",
      "relu - time: 0.00479888916015625\n",
      "fc2 - time: 0.009662628173828125\n",
      "softmax - time: 0.017276525497436523\n",
      "  Model Backward Measurements:\n",
      "fc1 - time: 0.2501981258392334\n",
      "relu - time: 0.011608362197875977\n",
      "fc2 - time: 0.021292924880981445\n",
      "softmax - time: 0.5837726593017578\n",
      "  Loss Forward Measurements:\n",
      "cross_entropy - time: 0.017145872116088867\n",
      "  Loss Backward Measurements:\n",
      "cross_entropy - time: 0.008128166198730469\n",
      "Epoch 3/10, Loss: 0.5269\n",
      "  Forward pass time: 0.1903 seconds\n",
      "  Backward pass time: 0.8473 seconds\n",
      "  Model Forward Measurements:\n",
      "fc1 - time: 0.14986205101013184\n",
      "relu - time: 0.004171609878540039\n",
      "fc2 - time: 0.009285211563110352\n",
      "softmax - time: 0.016412973403930664\n",
      "  Model Backward Measurements:\n",
      "fc1 - time: 0.23920249938964844\n",
      "relu - time: 0.010123729705810547\n",
      "fc2 - time: 0.01930069923400879\n",
      "softmax - time: 0.5645503997802734\n",
      "  Loss Forward Measurements:\n",
      "cross_entropy - time: 0.016299962997436523\n",
      "  Loss Backward Measurements:\n",
      "cross_entropy - time: 0.007791996002197266\n",
      "Epoch 4/10, Loss: 0.4149\n",
      "  Forward pass time: 0.1928 seconds\n",
      "  Backward pass time: 0.8706 seconds\n",
      "  Model Forward Measurements:\n",
      "fc1 - time: 0.15390253067016602\n",
      "relu - time: 0.004307985305786133\n",
      "fc2 - time: 0.009352684020996094\n",
      "softmax - time: 0.016551733016967773\n",
      "  Model Backward Measurements:\n",
      "fc1 - time: 0.24859619140625\n",
      "relu - time: 0.010854005813598633\n",
      "fc2 - time: 0.02013874053955078\n",
      "softmax - time: 0.5767743587493896\n",
      "  Loss Forward Measurements:\n",
      "cross_entropy - time: 0.01665210723876953\n",
      "  Loss Backward Measurements:\n",
      "cross_entropy - time: 0.007863759994506836\n",
      "Epoch 5/10, Loss: 0.3724\n",
      "  Forward pass time: 0.2003 seconds\n",
      "  Backward pass time: 0.9010 seconds\n",
      "  Model Forward Measurements:\n",
      "fc1 - time: 0.15908074378967285\n",
      "relu - time: 0.004639863967895508\n",
      "fc2 - time: 0.009391069412231445\n",
      "softmax - time: 0.016629457473754883\n",
      "  Model Backward Measurements:\n",
      "fc1 - time: 0.2583885192871094\n",
      "relu - time: 0.010845422744750977\n",
      "fc2 - time: 0.02121257781982422\n",
      "softmax - time: 0.5961465835571289\n",
      "  Loss Forward Measurements:\n",
      "cross_entropy - time: 0.01695728302001953\n",
      "  Loss Backward Measurements:\n",
      "cross_entropy - time: 0.007973194122314453\n",
      "Epoch 6/10, Loss: 0.3492\n",
      "  Forward pass time: 0.1924 seconds\n",
      "  Backward pass time: 0.8821 seconds\n",
      "  Model Forward Measurements:\n",
      "fc1 - time: 0.15331149101257324\n",
      "relu - time: 0.004275798797607422\n",
      "fc2 - time: 0.009348869323730469\n",
      "softmax - time: 0.016616344451904297\n",
      "  Model Backward Measurements:\n",
      "fc1 - time: 0.24864506721496582\n",
      "relu - time: 0.010443925857543945\n",
      "fc2 - time: 0.020827770233154297\n",
      "softmax - time: 0.5877408981323242\n",
      "  Loss Forward Measurements:\n",
      "cross_entropy - time: 0.01677560806274414\n",
      "  Loss Backward Measurements:\n",
      "cross_entropy - time: 0.008030891418457031\n",
      "Epoch 7/10, Loss: 0.3330\n",
      "  Forward pass time: 0.1885 seconds\n",
      "  Backward pass time: 0.8676 seconds\n",
      "  Model Forward Measurements:\n",
      "fc1 - time: 0.14768028259277344\n",
      "relu - time: 0.0043239593505859375\n",
      "fc2 - time: 0.009244441986083984\n",
      "softmax - time: 0.016603708267211914\n",
      "  Model Backward Measurements:\n",
      "fc1 - time: 0.2401590347290039\n",
      "relu - time: 0.010625600814819336\n",
      "fc2 - time: 0.020107507705688477\n",
      "softmax - time: 0.5823569297790527\n",
      "  Loss Forward Measurements:\n",
      "cross_entropy - time: 0.016819238662719727\n",
      "  Loss Backward Measurements:\n",
      "cross_entropy - time: 0.007857084274291992\n",
      "Epoch 8/10, Loss: 0.3204\n",
      "  Forward pass time: 0.1862 seconds\n",
      "  Backward pass time: 0.8611 seconds\n",
      "  Model Forward Measurements:\n",
      "fc1 - time: 0.147536039352417\n",
      "relu - time: 0.004168510437011719\n",
      "fc2 - time: 0.009434938430786133\n",
      "softmax - time: 0.016828298568725586\n",
      "  Model Backward Measurements:\n",
      "fc1 - time: 0.24104857444763184\n",
      "relu - time: 0.010544300079345703\n",
      "fc2 - time: 0.020337343215942383\n",
      "softmax - time: 0.5748622417449951\n",
      "  Loss Forward Measurements:\n",
      "cross_entropy - time: 0.016458749771118164\n",
      "  Loss Backward Measurements:\n",
      "cross_entropy - time: 0.007848978042602539\n",
      "Epoch 9/10, Loss: 0.3096\n",
      "  Forward pass time: 0.1862 seconds\n",
      "  Backward pass time: 0.8631 seconds\n",
      "  Model Forward Measurements:\n",
      "fc1 - time: 0.14673686027526855\n",
      "relu - time: 0.004328250885009766\n",
      "fc2 - time: 0.00955653190612793\n",
      "softmax - time: 0.01628589630126953\n",
      "  Model Backward Measurements:\n",
      "fc1 - time: 0.23815679550170898\n",
      "relu - time: 0.011052370071411133\n",
      "fc2 - time: 0.021270751953125\n",
      "softmax - time: 0.578275203704834\n",
      "  Loss Forward Measurements:\n",
      "cross_entropy - time: 0.016667604446411133\n",
      "  Loss Backward Measurements:\n",
      "cross_entropy - time: 0.007727861404418945\n",
      "Epoch 10/10, Loss: 0.3000\n",
      "  Forward pass time: 0.1949 seconds\n",
      "  Backward pass time: 0.8937 seconds\n",
      "  Model Forward Measurements:\n",
      "fc1 - time: 0.15572714805603027\n",
      "relu - time: 0.004527568817138672\n",
      "fc2 - time: 0.0095977783203125\n",
      "softmax - time: 0.01675724983215332\n",
      "  Model Backward Measurements:\n",
      "fc1 - time: 0.24929404258728027\n",
      "relu - time: 0.011178016662597656\n",
      "fc2 - time: 0.021490812301635742\n",
      "softmax - time: 0.5970973968505859\n",
      "  Loss Forward Measurements:\n",
      "cross_entropy - time: 0.016660451889038086\n",
      "  Loss Backward Measurements:\n",
      "cross_entropy - time: 0.008174419403076172\n"
     ]
    }
   ],
   "source": [
    "# Train the model\n",
    "optimizer.train(X_train, y_train_cat, cross_entropy_loss, cross_entropy_grad, epochs=10, batch_size=128, verbose=True)"
   ]
  },
  {
   "cell_type": "markdown",
   "id": "e2a69848",
   "metadata": {},
   "source": [
    "# Validate Model Performance on Test Set\n",
    "Evaluate the trained model on the test set and display accuracy and loss metrics."
   ]
  },
  {
   "cell_type": "code",
   "execution_count": 6,
   "id": "067b3e67",
   "metadata": {},
   "outputs": [
    {
     "name": "stdout",
     "output_type": "stream",
     "text": [
      "Test Accuracy: 92.63%\n",
      "Test Loss: 0.2817\n"
     ]
    }
   ],
   "source": [
    "# Evaluate on test set\n",
    "pred_probs, _ = mlp.forward(X_test)\n",
    "pred_labels = np.argmax(pred_probs, axis=1)\n",
    "true_labels = np.argmax(y_test_cat, axis=1)\n",
    "accuracy = np.mean(pred_labels == true_labels)\n",
    "test_loss, _ = cross_entropy_loss(pred_probs, y_test_cat)\n",
    "print(f\"Test Accuracy: {accuracy*100:.2f}%\")\n",
    "print(f\"Test Loss: {test_loss:.4f}\")"
   ]
  }
 ],
 "metadata": {
  "kernelspec": {
   "display_name": "deep-learning",
   "language": "python",
   "name": "python3"
  },
  "language_info": {
   "codemirror_mode": {
    "name": "ipython",
    "version": 3
   },
   "file_extension": ".py",
   "mimetype": "text/x-python",
   "name": "python",
   "nbconvert_exporter": "python",
   "pygments_lexer": "ipython3",
   "version": "3.13.5"
  }
 },
 "nbformat": 4,
 "nbformat_minor": 5
}
