{
 "cells": [
  {
   "cell_type": "markdown",
   "id": "2c52c8ed",
   "metadata": {},
   "source": [
    "# Import Required Libraries\n",
    "Import necessary libraries such as numpy, tensorflow/keras, and matplotlib for visualization."
   ]
  },
  {
   "cell_type": "code",
   "execution_count": 1,
   "id": "cde44e32",
   "metadata": {},
   "outputs": [
    {
     "name": "stderr",
     "output_type": "stream",
     "text": [
      "2025-08-29 13:25:53.004479: I external/local_xla/xla/tsl/cuda/cudart_stub.cc:31] Could not find cuda drivers on your machine, GPU will not be used.\n",
      "2025-08-29 13:25:53.040938: I tensorflow/core/platform/cpu_feature_guard.cc:210] This TensorFlow binary is optimized to use available CPU instructions in performance-critical operations.\n",
      "To enable the following instructions: AVX2 FMA, in other operations, rebuild TensorFlow with the appropriate compiler flags.\n",
      "2025-08-29 13:25:53.784937: I external/local_xla/xla/tsl/cuda/cudart_stub.cc:31] Could not find cuda drivers on your machine, GPU will not be used.\n"
     ]
    }
   ],
   "source": [
    "import numpy as np\n",
    "import matplotlib.pyplot as plt\n",
    "from tensorflow.keras.datasets import mnist\n",
    "from tensorflow.keras.utils import to_categorical\n",
    "\n",
    "import sys\n",
    "sys.path.append('../')  # To import from parent directory"
   ]
  },
  {
   "cell_type": "markdown",
   "id": "2f51d09a",
   "metadata": {},
   "source": [
    "# Load the MNIST Dataset\n",
    "Load the MNIST dataset using Keras datasets API and split into training and test sets."
   ]
  },
  {
   "cell_type": "code",
   "execution_count": 2,
   "id": "08738481",
   "metadata": {},
   "outputs": [
    {
     "name": "stdout",
     "output_type": "stream",
     "text": [
      "Training samples: 60000, Test samples: 10000\n"
     ]
    }
   ],
   "source": [
    "(X_train, y_train), (X_test, y_test) = mnist.load_data()\n",
    "print(f\"Training samples: {X_train.shape[0]}, Test samples: {X_test.shape[0]}\")"
   ]
  },
  {
   "cell_type": "markdown",
   "id": "b6003b9a",
   "metadata": {},
   "source": [
    "# Preprocess the Data\n",
    "Normalize the image data and convert labels to categorical format suitable for classification."
   ]
  },
  {
   "cell_type": "code",
   "execution_count": 3,
   "id": "6af5781c",
   "metadata": {},
   "outputs": [],
   "source": [
    "# Normalize images to [0, 1] and flatten\n",
    "X_train = X_train.astype(np.float32) / 255.0\n",
    "X_test = X_test.astype(np.float32) / 255.0\n",
    "X_train = X_train.reshape(-1, 28*28)\n",
    "X_test = X_test.reshape(-1, 28*28)\n",
    "\n",
    "# Convert labels to categorical (one-hot)\n",
    "y_train_cat = to_categorical(y_train, 10)\n",
    "y_test_cat = to_categorical(y_test, 10)"
   ]
  },
  {
   "cell_type": "markdown",
   "id": "97d5d260",
   "metadata": {},
   "source": [
    "# Instantiate the MLP Model\n",
    "Define and compile a Multi-Layer Perceptron (MLP) model using your custom implementation."
   ]
  },
  {
   "cell_type": "code",
   "execution_count": 4,
   "id": "04504b3e",
   "metadata": {},
   "outputs": [],
   "source": [
    "from models.mlp import MLP\n",
    "from algorithms.sgd import SGD\n",
    "from loss_functions.cross_entropy import cross_entropy_loss, cross_entropy_grad\n",
    "\n",
    "# Define model dimensions\n",
    "input_dim = 28*28\n",
    "hidden_dim = 128\n",
    "output_dim = 10\n",
    "\n",
    "# Instantiate model and optimizer\n",
    "mlp = MLP(input_dim, hidden_dim, output_dim)\n",
    "optimizer = SGD(mlp, lr=0.1)"
   ]
  },
  {
   "cell_type": "markdown",
   "id": "fd766212",
   "metadata": {},
   "source": [
    "# Train the Model\n",
    "Train the MLP model on the training data and monitor training metrics."
   ]
  },
  {
   "cell_type": "code",
   "execution_count": 5,
   "id": "041b326a",
   "metadata": {},
   "outputs": [
    {
     "name": "stdout",
     "output_type": "stream",
     "text": [
      "Epoch 1/10, Loss: 2.2074\n",
      "  Forward pass time: 2.4922 seconds\n",
      "  Backward pass time: 5.5973 seconds\n",
      "  Model Forward Measurements:\n",
      "fc1 - time: 2.411245584487915\n",
      "relu - time: 0.011876583099365234\n",
      "fc2 - time: 0.02692890167236328\n",
      "softmax - time: 0.03602290153503418\n",
      "  Model Backward Measurements:\n",
      "fc1 - time: 4.54232382774353\n",
      "relu - time: 0.011155843734741211\n",
      "fc2 - time: 0.03374814987182617\n",
      "softmax - time: 0.9691014289855957\n",
      "  Loss Forward Measurements:\n",
      "cross_entropy - time: 0.0483708381652832\n",
      "  Loss Backward Measurements:\n",
      "cross_entropy - time: 0.011192798614501953\n",
      "Epoch 2/10, Loss: 1.1844\n",
      "  Forward pass time: 2.4604 seconds\n",
      "  Backward pass time: 6.0179 seconds\n",
      "  Model Forward Measurements:\n",
      "fc1 - time: 2.3513565063476562\n",
      "relu - time: 0.014025688171386719\n",
      "fc2 - time: 0.027215003967285156\n",
      "softmax - time: 0.056749582290649414\n",
      "  Model Backward Measurements:\n",
      "fc1 - time: 4.931543827056885\n",
      "relu - time: 0.01647472381591797\n",
      "fc2 - time: 0.034404754638671875\n",
      "softmax - time: 0.9919476509094238\n",
      "  Loss Forward Measurements:\n",
      "cross_entropy - time: 0.033711910247802734\n",
      "  Loss Backward Measurements:\n",
      "cross_entropy - time: 0.021218299865722656\n",
      "Epoch 3/10, Loss: 0.5266\n",
      "  Forward pass time: 2.1704 seconds\n",
      "  Backward pass time: 5.7754 seconds\n",
      "  Model Forward Measurements:\n",
      "fc1 - time: 2.0834403038024902\n",
      "relu - time: 0.01221776008605957\n",
      "fc2 - time: 0.024135828018188477\n",
      "softmax - time: 0.04362630844116211\n",
      "  Model Backward Measurements:\n",
      "fc1 - time: 4.679082155227661\n",
      "relu - time: 0.011249065399169922\n",
      "fc2 - time: 0.055489301681518555\n",
      "softmax - time: 0.9814834594726562\n",
      "  Loss Forward Measurements:\n",
      "cross_entropy - time: 0.02990412712097168\n",
      "  Loss Backward Measurements:\n",
      "cross_entropy - time: 0.010875940322875977\n",
      "Epoch 4/10, Loss: 0.4120\n",
      "  Forward pass time: 2.2188 seconds\n",
      "  Backward pass time: 5.3983 seconds\n",
      "  Model Forward Measurements:\n",
      "fc1 - time: 2.1253600120544434\n",
      "relu - time: 0.020907163619995117\n",
      "fc2 - time: 0.028847455978393555\n",
      "softmax - time: 0.03510689735412598\n",
      "  Model Backward Measurements:\n",
      "fc1 - time: 4.359918117523193\n",
      "relu - time: 0.01195669174194336\n",
      "fc2 - time: 0.041837215423583984\n",
      "softmax - time: 0.9479794502258301\n",
      "  Loss Forward Measurements:\n",
      "cross_entropy - time: 0.03272366523742676\n",
      "  Loss Backward Measurements:\n",
      "cross_entropy - time: 0.01598811149597168\n",
      "Epoch 5/10, Loss: 0.3690\n",
      "  Forward pass time: 1.9147 seconds\n",
      "  Backward pass time: 4.6284 seconds\n",
      "  Model Forward Measurements:\n",
      "fc1 - time: 1.8228399753570557\n",
      "relu - time: 0.011826753616333008\n",
      "fc2 - time: 0.034326791763305664\n",
      "softmax - time: 0.03900742530822754\n",
      "  Model Backward Measurements:\n",
      "fc1 - time: 3.567673921585083\n",
      "relu - time: 0.018541574478149414\n",
      "fc2 - time: 0.03599357604980469\n",
      "softmax - time: 0.9751567840576172\n",
      "  Loss Forward Measurements:\n",
      "cross_entropy - time: 0.039366722106933594\n",
      "  Loss Backward Measurements:\n",
      "cross_entropy - time: 0.010845422744750977\n",
      "Epoch 6/10, Loss: 0.3450\n",
      "  Forward pass time: 1.8645 seconds\n",
      "  Backward pass time: 4.6339 seconds\n",
      "  Model Forward Measurements:\n",
      "fc1 - time: 1.7771611213684082\n",
      "relu - time: 0.01218724250793457\n",
      "fc2 - time: 0.0290219783782959\n",
      "softmax - time: 0.04104113578796387\n",
      "  Model Backward Measurements:\n",
      "fc1 - time: 3.5707767009735107\n",
      "relu - time: 0.012627124786376953\n",
      "fc2 - time: 0.03465700149536133\n",
      "softmax - time: 0.9759268760681152\n",
      "  Loss Forward Measurements:\n",
      "cross_entropy - time: 0.02830219268798828\n",
      "  Loss Backward Measurements:\n",
      "cross_entropy - time: 0.016668319702148438\n",
      "Epoch 7/10, Loss: 0.3285\n",
      "  Forward pass time: 4.8244 seconds\n",
      "  Backward pass time: 7.4238 seconds\n",
      "  Model Forward Measurements:\n",
      "fc1 - time: 4.723664283752441\n",
      "relu - time: 0.018607139587402344\n",
      "fc2 - time: 0.026086091995239258\n",
      "softmax - time: 0.045423030853271484\n",
      "  Model Backward Measurements:\n",
      "fc1 - time: 6.462144613265991\n",
      "relu - time: 0.013620615005493164\n",
      "fc2 - time: 0.04550886154174805\n",
      "softmax - time: 0.8688173294067383\n",
      "  Loss Forward Measurements:\n",
      "cross_entropy - time: 0.04720592498779297\n",
      "  Loss Backward Measurements:\n",
      "cross_entropy - time: 0.012817621231079102\n",
      "Epoch 8/10, Loss: 0.3165\n",
      "  Forward pass time: 7.1772 seconds\n",
      "  Backward pass time: 10.2943 seconds\n",
      "  Model Forward Measurements:\n",
      "fc1 - time: 7.081414699554443\n",
      "relu - time: 0.01018977165222168\n",
      "fc2 - time: 0.02429509162902832\n",
      "softmax - time: 0.03613996505737305\n",
      "  Model Backward Measurements:\n",
      "fc1 - time: 9.398868799209595\n",
      "relu - time: 0.013353109359741211\n",
      "fc2 - time: 0.04732918739318848\n",
      "softmax - time: 0.8001124858856201\n",
      "  Loss Forward Measurements:\n",
      "cross_entropy - time: 0.05776095390319824\n",
      "  Loss Backward Measurements:\n",
      "cross_entropy - time: 0.012162923812866211\n",
      "Epoch 9/10, Loss: 0.3060\n",
      "  Forward pass time: 4.5708 seconds\n",
      "  Backward pass time: 8.4550 seconds\n",
      "  Model Forward Measurements:\n",
      "fc1 - time: 4.497695207595825\n",
      "relu - time: 0.009333133697509766\n",
      "fc2 - time: 0.01927042007446289\n",
      "softmax - time: 0.03683829307556152\n",
      "  Model Backward Measurements:\n",
      "fc1 - time: 7.63121223449707\n",
      "relu - time: 0.013007402420043945\n",
      "fc2 - time: 0.031754493713378906\n",
      "softmax - time: 0.7498369216918945\n",
      "  Loss Forward Measurements:\n",
      "cross_entropy - time: 0.039920806884765625\n",
      "  Loss Backward Measurements:\n",
      "cross_entropy - time: 0.013979911804199219\n",
      "Epoch 10/10, Loss: 0.2973\n",
      "  Forward pass time: 2.6783 seconds\n",
      "  Backward pass time: 6.3667 seconds\n",
      "  Model Forward Measurements:\n",
      "fc1 - time: 2.6241543292999268\n",
      "relu - time: 0.0069713592529296875\n",
      "fc2 - time: 0.013686656951904297\n",
      "softmax - time: 0.02830028533935547\n",
      "  Model Backward Measurements:\n",
      "fc1 - time: 5.632769823074341\n",
      "relu - time: 0.011348724365234375\n",
      "fc2 - time: 0.03138995170593262\n",
      "softmax - time: 0.6698174476623535\n",
      "  Loss Forward Measurements:\n",
      "cross_entropy - time: 0.02729320526123047\n",
      "  Loss Backward Measurements:\n",
      "cross_entropy - time: 0.010349512100219727\n"
     ]
    }
   ],
   "source": [
    "# Train the model\n",
    "optimizer.train(X_train, y_train_cat, cross_entropy_loss, cross_entropy_grad, epochs=10, batch_size=128, verbose=True)"
   ]
  },
  {
   "cell_type": "markdown",
   "id": "e2a69848",
   "metadata": {},
   "source": [
    "# Validate Model Performance on Test Set\n",
    "Evaluate the trained model on the test set and display accuracy and loss metrics."
   ]
  },
  {
   "cell_type": "code",
   "execution_count": 6,
   "id": "067b3e67",
   "metadata": {},
   "outputs": [
    {
     "name": "stdout",
     "output_type": "stream",
     "text": [
      "Test Accuracy: 92.94%\n",
      "Test Loss: 0.2794\n"
     ]
    }
   ],
   "source": [
    "# Evaluate on test set\n",
    "pred_probs, _ = mlp.forward(X_test)\n",
    "pred_labels = np.argmax(pred_probs, axis=1)\n",
    "true_labels = np.argmax(y_test_cat, axis=1)\n",
    "accuracy = np.mean(pred_labels == true_labels)\n",
    "test_loss, _ = cross_entropy_loss(pred_probs, y_test_cat)\n",
    "print(f\"Test Accuracy: {accuracy*100:.2f}%\")\n",
    "print(f\"Test Loss: {test_loss:.4f}\")"
   ]
  }
 ],
 "metadata": {
  "kernelspec": {
   "display_name": "deep-learning",
   "language": "python",
   "name": "python3"
  },
  "language_info": {
   "codemirror_mode": {
    "name": "ipython",
    "version": 3
   },
   "file_extension": ".py",
   "mimetype": "text/x-python",
   "name": "python",
   "nbconvert_exporter": "python",
   "pygments_lexer": "ipython3",
   "version": "3.13.5"
  }
 },
 "nbformat": 4,
 "nbformat_minor": 5
}
